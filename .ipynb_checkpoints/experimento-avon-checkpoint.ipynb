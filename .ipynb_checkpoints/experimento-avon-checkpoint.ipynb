{
 "cells": [
  {
   "cell_type": "code",
   "execution_count": 2,
   "metadata": {},
   "outputs": [
    {
     "name": "stdout",
     "output_type": "stream",
     "text": [
      "Collecting pyarrow\n",
      "\u001b[?25l  Downloading https://files.pythonhosted.org/packages/ad/25/094b122d828d24b58202712a74e661e36cd551ca62d331e388ff68bae91d/pyarrow-0.13.0-cp36-cp36m-manylinux1_x86_64.whl (48.5MB)\n",
      "\u001b[K    100% |████████████████████████████████| 48.5MB 1.1MB/s eta 0:00:01\n",
      "\u001b[?25hRequirement already satisfied: numpy>=1.14 in /home/ec2-user/anaconda3/envs/python3/lib/python3.6/site-packages (from pyarrow) (1.15.4)\n",
      "Requirement already satisfied: six>=1.0.0 in /home/ec2-user/anaconda3/envs/python3/lib/python3.6/site-packages (from pyarrow) (1.11.0)\n",
      "Installing collected packages: pyarrow\n",
      "Successfully installed pyarrow-0.13.0\n",
      "\u001b[33mYou are using pip version 10.0.1, however version 19.0.3 is available.\n",
      "You should consider upgrading via the 'pip install --upgrade pip' command.\u001b[0m\n"
     ]
    }
   ],
   "source": [
    "!pip install pyarrow"
   ]
  },
  {
   "cell_type": "code",
   "execution_count": 3,
   "metadata": {},
   "outputs": [],
   "source": [
    "import pyarrow.parquet as pq\n",
    "import s3fs\n",
    "s3 = s3fs.S3FileSystem()"
   ]
  },
  {
   "cell_type": "code",
   "execution_count": 4,
   "metadata": {},
   "outputs": [],
   "source": [
    "df = pq.ParquetDataset('s3://algartech-datalake-cob-analytics-dev/cobranca/avon_fase_1/cdi/clientBase_payment_mailing'\n",
    "                       , filesystem=s3).read_pandas().to_pandas()"
   ]
  },
  {
   "cell_type": "code",
   "execution_count": 5,
   "metadata": {},
   "outputs": [
    {
     "data": {
      "text/html": [
       "<div>\n",
       "<style scoped>\n",
       "    .dataframe tbody tr th:only-of-type {\n",
       "        vertical-align: middle;\n",
       "    }\n",
       "\n",
       "    .dataframe tbody tr th {\n",
       "        vertical-align: top;\n",
       "    }\n",
       "\n",
       "    .dataframe thead th {\n",
       "        text-align: right;\n",
       "    }\n",
       "</style>\n",
       "<table border=\"1\" class=\"dataframe\">\n",
       "  <thead>\n",
       "    <tr style=\"text-align: right;\">\n",
       "      <th></th>\n",
       "      <th>_id</th>\n",
       "      <th>cdiId</th>\n",
       "      <th>data</th>\n",
       "      <th>inputDate</th>\n",
       "      <th>source</th>\n",
       "    </tr>\n",
       "  </thead>\n",
       "  <tbody>\n",
       "    <tr>\n",
       "      <th>0</th>\n",
       "      <td>5c864570d1b221000726bd1a</td>\n",
       "      <td>57798342.5c51a33986f4920008bf7636.5c519dd80ce5...</td>\n",
       "      <td>{'CPF': '92919308904', 'DMACCTG': '1', 'aging'...</td>\n",
       "      <td>2019-03-11T11:24:32Z</td>\n",
       "      <td>PAYMENT_MAILING</td>\n",
       "    </tr>\n",
       "    <tr>\n",
       "      <th>1</th>\n",
       "      <td>5c864570d1b221000726bd1b</td>\n",
       "      <td>58578372.5c51a33986f4920008bf7636.5c519dd80ce5...</td>\n",
       "      <td>{'CPF': '04318278697', 'DMACCTG': '1', 'aging'...</td>\n",
       "      <td>2019-03-11T11:24:32Z</td>\n",
       "      <td>PAYMENT_MAILING</td>\n",
       "    </tr>\n",
       "  </tbody>\n",
       "</table>\n",
       "</div>"
      ],
      "text/plain": [
       "                        _id  \\\n",
       "0  5c864570d1b221000726bd1a   \n",
       "1  5c864570d1b221000726bd1b   \n",
       "\n",
       "                                               cdiId  \\\n",
       "0  57798342.5c51a33986f4920008bf7636.5c519dd80ce5...   \n",
       "1  58578372.5c51a33986f4920008bf7636.5c519dd80ce5...   \n",
       "\n",
       "                                                data             inputDate  \\\n",
       "0  {'CPF': '92919308904', 'DMACCTG': '1', 'aging'...  2019-03-11T11:24:32Z   \n",
       "1  {'CPF': '04318278697', 'DMACCTG': '1', 'aging'...  2019-03-11T11:24:32Z   \n",
       "\n",
       "            source  \n",
       "0  PAYMENT_MAILING  \n",
       "1  PAYMENT_MAILING  "
      ]
     },
     "execution_count": 5,
     "metadata": {},
     "output_type": "execute_result"
    }
   ],
   "source": [
    "df.head(2)"
   ]
  },
  {
   "cell_type": "code",
   "execution_count": null,
   "metadata": {},
   "outputs": [],
   "source": []
  }
 ],
 "metadata": {
  "kernelspec": {
   "display_name": "conda_python3",
   "language": "python",
   "name": "conda_python3"
  },
  "language_info": {
   "codemirror_mode": {
    "name": "ipython",
    "version": 3
   },
   "file_extension": ".py",
   "mimetype": "text/x-python",
   "name": "python",
   "nbconvert_exporter": "python",
   "pygments_lexer": "ipython3",
   "version": "3.6.5"
  }
 },
 "nbformat": 4,
 "nbformat_minor": 2
}
